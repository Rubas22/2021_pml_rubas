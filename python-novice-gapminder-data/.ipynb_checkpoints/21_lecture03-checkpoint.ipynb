{
 "cells": [
  {
   "cell_type": "code",
   "execution_count": 4,
   "id": "6ab8c612-860b-404c-85e0-663e9eb1b4a4",
   "metadata": {},
   "outputs": [
    {
     "name": "stdout",
     "output_type": "stream",
     "text": [
      "Test set score: 0.58\n"
     ]
    }
   ],
   "source": [
    "import mglearn\n",
    "from sklearn.model_selection import train_test_split\n",
    "from sklearn.neighbors import KNeighborsRegressor\n",
    "\n",
    "boston = mglearn.datasets.load_boston()\n",
    "X_boston = boston['data']\n",
    "y_boston = boston['target']\n",
    "X_train, X_test, y_train, y_test = train_test_split(X_boston, y_boston, random_state=2)\n",
    "\n",
    "reg = KNeighborsRegressor(n_neighbors=3)\n",
    "reg.fit(X_train, y_train)\n",
    "print(\"Test set score: {:.2f}\".format(reg.score(X_test, y_test)))"
   ]
  }
 ],
 "metadata": {
  "kernelspec": {
   "display_name": "Python 3",
   "language": "python",
   "name": "python3"
  },
  "language_info": {
   "codemirror_mode": {
    "name": "ipython",
    "version": 3
   },
   "file_extension": ".py",
   "mimetype": "text/x-python",
   "name": "python",
   "nbconvert_exporter": "python",
   "pygments_lexer": "ipython3",
   "version": "3.8.8"
  }
 },
 "nbformat": 4,
 "nbformat_minor": 5
}
