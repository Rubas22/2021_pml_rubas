{
 "cells": [
  {
   "cell_type": "markdown",
   "id": "9c342f47-f064-41fc-b8c7-30e5af380d6c",
   "metadata": {},
   "source": [
    "1. Aplicar el algoritmo de KNeighborsRegressor al dataset de viviendas en Boston con los siguientes parámetros:\n",
    "\n",
    "    * random_state=2 para dividir el dataset en conjunto de entrenamiento y conjunto de prueba\n",
    "    * n_neighbors=3\n",
    "\n",
    "2. Responder:       \n",
    "\n",
    "    * ¿Cuál es el desempeño en el conjunto de prueba (redondeando a dos cifras?  \n",
    "  "
   ]
  },
  {
   "cell_type": "code",
   "execution_count": 2,
   "id": "6ab8c612-860b-404c-85e0-663e9eb1b4a4",
   "metadata": {},
   "outputs": [
    {
     "name": "stdout",
     "output_type": "stream",
     "text": [
      "Test set score: 0.58\n"
     ]
    }
   ],
   "source": [
    "import mglearn\n",
    "from sklearn.model_selection import train_test_split\n",
    "from sklearn.neighbors import KNeighborsRegressor\n",
    "\n",
    "boston = mglearn.datasets.load_boston()\n",
    "X_boston = boston['data']\n",
    "y_boston = boston['target']\n",
    "X_train, X_test, y_train, y_test = train_test_split(X_boston, y_boston, random_state=2)\n",
    "\n",
    "reg = KNeighborsRegressor(n_neighbors=3)\n",
    "reg.fit(X_train, y_train)\n",
    "print(\"Test set score: {:.2f}\".format(reg.score(X_test, y_test)))"
   ]
  },
  {
   "cell_type": "markdown",
   "id": "fad956ba-83fa-483d-b800-132a6617b1ec",
   "metadata": {},
   "source": [
    "1. Aplicar el algoritmo de KNeighborsRegressor al dataset de viviendas en Boston con los siguientes parámetros:\n",
    "\n",
    "    * random_state=2 para dividir el dataset en conjunto de entrenamiento y conjunto de prueba\n",
    "    * n_neighbors=3\n",
    "\n",
    "2 Responder\n",
    "    * ¿Hay alguna mejora si el número de vecinos es 5? "
   ]
  },
  {
   "cell_type": "code",
   "execution_count": 5,
   "id": "caef6ddf-303c-420f-bc5b-dfedd9b5b225",
   "metadata": {},
   "outputs": [
    {
     "name": "stdout",
     "output_type": "stream",
     "text": [
      "Test set score: 0.59\n"
     ]
    }
   ],
   "source": [
    "reg = KNeighborsRegressor(n_neighbors=5)\n",
    "reg.fit(X_train, y_train)\n",
    "print(\"Test set score: {:.2f}\".format(reg.score(X_test, y_test)))"
   ]
  },
  {
   "cell_type": "markdown",
   "id": "9421116f-a547-474b-9efe-91a950e87ed0",
   "metadata": {},
   "source": [
    " Aplicar el algoritmo de LinearRegression al dataset de viviendas en Boston con los mismos parámetros que las preguntas anteriores:\n",
    "\n",
    "   \n",
    "\n",
    "   Reponder:\n",
    "    * ¿Cuál es el desempeño en el conjunto de prueba ? (dos decimales)"
   ]
  },
  {
   "cell_type": "code",
   "execution_count": 3,
   "id": "5e9b6f88-34e5-49a6-987c-5492e67fd0cd",
   "metadata": {},
   "outputs": [
    {
     "name": "stdout",
     "output_type": "stream",
     "text": [
      "Test set score: 0.75\n"
     ]
    }
   ],
   "source": [
    "from sklearn.linear_model import LinearRegression\n",
    "\n",
    "lr = LinearRegression()\n",
    "lr.fit(X_train, y_train)\n",
    "print(\"Test set score: {:.2f}\".format(lr.score(X_test, y_test)))"
   ]
  },
  {
   "cell_type": "markdown",
   "id": "c3c91fba-0ac7-4bd9-b2d3-c28a32595ac2",
   "metadata": {},
   "source": [
    "1. Con los mismos conjuntos de entrenamiento que las preguntas anteriores, aplicar LinearRegression.\n",
    "\n",
    "2. Responder:\n",
    "   \n",
    "    * ¿Cuál es el peso que tiene la criminalidad según el modelo?"
   ]
  },
  {
   "cell_type": "code",
   "execution_count": 8,
   "id": "198d872e-c2e1-47f8-a068-0e3813845196",
   "metadata": {},
   "outputs": [
    {
     "name": "stdout",
     "output_type": "stream",
     "text": [
      "['CRIM' 'ZN' 'INDUS' 'CHAS' 'NOX' 'RM' 'AGE' 'DIS' 'RAD' 'TAX' 'PTRATIO'\n",
      " 'B' 'LSTAT']\n",
      "lr.coef_: [-9.81915048e-02  3.48400626e-02 -1.65945367e-02  3.36283135e+00\n",
      " -1.61477570e+01  3.57041012e+00  4.56458846e-03 -1.39585375e+00\n",
      "  3.15975518e-01 -1.20505823e-02 -1.04852815e+00  1.14536184e-02\n",
      " -5.52653040e-01]\n"
     ]
    }
   ],
   "source": [
    "print(boston['feature_names'])\n",
    "print(\"lr.coef_: {}\".format(lr.coef_))"
   ]
  },
  {
   "cell_type": "markdown",
   "id": "9a867136-b2b6-4adf-8213-051f22186806",
   "metadata": {},
   "source": [
    "Escribe un programa Python usando Scikit-learn para dividir el conjunto de datos de especies de iris en un 80% de datos de entrenamiento y un 20% de datos de prueba. Del total de 150 registros, el conjunto de entrenamiento contendrá 120 registros y el conjunto de prueba 30 registros. \n",
    "\n",
    "Entrena o ajusta los datos en el modelo y calcula la precisión utilizando la función score ,redondeando a dos dígitos, utilizando el algoritmo K Nearest Neighbor con una semilla random_state de 2."
   ]
  },
  {
   "cell_type": "code",
   "execution_count": 9,
   "id": "38f94cd1-72d3-4e17-a40d-91a1eaebc720",
   "metadata": {},
   "outputs": [
    {
     "name": "stdout",
     "output_type": "stream",
     "text": [
      "Test set score: 1.00\n"
     ]
    }
   ],
   "source": [
    "from sklearn.datasets import load_iris\n",
    "from sklearn.neighbors import KNeighborsClassifier\n",
    "\n",
    "iris_dataset = load_iris()\n",
    "X_iris = iris_dataset['data']\n",
    "y_iris = iris_dataset['target']\n",
    "# Splitting the dataset into 80% and 20%\n",
    "# Our seed is set as 2\n",
    "X_train, X_test, y_train, y_test = train_test_split(X_iris, y_iris, train_size = 0.8, random_state=2)\n",
    "knn = KNeighborsClassifier()\n",
    "#Storing the training dataset\n",
    "knn.fit(X_train, y_train)\n",
    "# Calculating accuracy of prediction\n",
    "print(\"Test set score: {:.2f}\".format(knn.score(X_test, y_test)))"
   ]
  }
 ],
 "metadata": {
  "kernelspec": {
   "display_name": "Python 3",
   "language": "python",
   "name": "python3"
  },
  "language_info": {
   "codemirror_mode": {
    "name": "ipython",
    "version": 3
   },
   "file_extension": ".py",
   "mimetype": "text/x-python",
   "name": "python",
   "nbconvert_exporter": "python",
   "pygments_lexer": "ipython3",
   "version": "3.8.8"
  }
 },
 "nbformat": 4,
 "nbformat_minor": 5
}
