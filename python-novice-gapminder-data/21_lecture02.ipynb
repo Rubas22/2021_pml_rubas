{
 "cells": [
  {
   "cell_type": "code",
   "execution_count": 14,
   "id": "a6aa6ffe-b62c-4162-b622-0a987bc78d60",
   "metadata": {},
   "outputs": [
    {
     "name": "stdout",
     "output_type": "stream",
     "text": [
      "Shape of the data: (150, 5)\n",
      "Type of the data:\n",
      "sepal.length    float64\n",
      "sepal.width     float64\n",
      "petal.length    float64\n",
      "petal.width     float64\n",
      "variety          object\n",
      "dtype: object\n",
      "First three rows:\n",
      "   sepal.length  sepal.width  petal.length  petal.width variety\n",
      "0           5.1          3.5           1.4          0.2  Setosa\n",
      "1           4.9          3.0           1.4          0.2  Setosa\n",
      "2           4.7          3.2           1.3          0.2  Setosa\n"
     ]
    }
   ],
   "source": [
    "import pandas as pd\n",
    "\n",
    "iris_data = pd.read_csv('data/iris.csv')\n",
    "print('Shape of the data: {}'.format(iris_data.shape))\n",
    "print('Type of the data:\\n{}'.format(iris_data.dtypes))\n",
    "print('First three rows:\\n{}'.format(iris_data.head(3)))"
   ]
  },
  {
   "cell_type": "code",
   "execution_count": 15,
   "id": "516bc63a-dcbb-4971-9d11-06e1b1aec6f9",
   "metadata": {},
   "outputs": [
    {
     "name": "stdout",
     "output_type": "stream",
     "text": [
      "Mean of petal length: 3.76\n"
     ]
    }
   ],
   "source": [
    "iris_mean_petal_ln = round(iris_data.describe().loc['mean','petal.length'], 2)\n",
    "print('Mean of petal length: {}'.format(iris_mean_petal_ln))"
   ]
  }
 ],
 "metadata": {
  "kernelspec": {
   "display_name": "Python 3",
   "language": "python",
   "name": "python3"
  },
  "language_info": {
   "codemirror_mode": {
    "name": "ipython",
    "version": 3
   },
   "file_extension": ".py",
   "mimetype": "text/x-python",
   "name": "python",
   "nbconvert_exporter": "python",
   "pygments_lexer": "ipython3",
   "version": "3.8.8"
  }
 },
 "nbformat": 4,
 "nbformat_minor": 5
}
