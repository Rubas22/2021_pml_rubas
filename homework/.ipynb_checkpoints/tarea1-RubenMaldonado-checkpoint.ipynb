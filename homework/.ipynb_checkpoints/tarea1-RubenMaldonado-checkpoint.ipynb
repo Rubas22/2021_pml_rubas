{
 "cells": [
  {
   "cell_type": "markdown",
   "id": "152a7135-03fb-4b97-871f-931a29e88c1a",
   "metadata": {},
   "source": [
    "# First Homework"
   ]
  },
  {
   "cell_type": "markdown",
   "id": "09c483d6-aeb8-438e-8458-2936a3678722",
   "metadata": {},
   "source": [
    "## 1. Running and Quitting"
   ]
  },
  {
   "cell_type": "markdown",
   "id": "c4fe4e01-d3c2-43e7-92e4-c83f5af6cd9a",
   "metadata": {},
   "source": [
    "### Create a nested lists in Markdown\n",
    "**ANSWER:**\n",
    "1. Mexico\n",
    "    * Michoacan\n",
    "        * Patzcuaro\n",
    "        * Morelia\n",
    "    * Veracruz\n",
    "        * Jalapa\n",
    "    * Jalisco\n",
    "    * Sonora\n",
    "2. Argentine\n",
    "    * Santa Cruz\n",
    "    * Jujuy\n",
    "    * La Rioja\n",
    "3. Canada\n",
    "    * Victoria\n",
    "    * Ottawa\n",
    "4. Germany"
   ]
  },
  {
   "cell_type": "markdown",
   "id": "310dd689-fd2b-4e7a-8ddd-428323322afa",
   "metadata": {},
   "source": [
    "## 2. Variables and Assignment"
   ]
  },
  {
   "cell_type": "markdown",
   "id": "65717a0f-c791-4b9e-94f9-36a2430e9098",
   "metadata": {},
   "source": [
    "### Fill the table showing the values of the variables in this program after each statement is executed."
   ]
  },
  {
   "cell_type": "code",
   "execution_count": null,
   "id": "bd90c85d-0d25-410a-a14e-3ff596ed4c4e",
   "metadata": {},
   "outputs": [],
   "source": [
    "# Command  # Value of x   # Value of y   # Value of swap #\n",
    "x = 1.0    # 1.0          # not defined  # not defined   #\n",
    "y = 3.0    # 1.0          # 3.0          # not defined   #\n",
    "swap = x   # 1.0          # 3.0          # 1.0           #\n",
    "x = y      # 3.0          # 3.0          # 1.0           #\n",
    "y = swap   # 3.0          # 1.0          # 1.0           #"
   ]
  },
  {
   "cell_type": "markdown",
   "id": "cb2a63ed-6c52-4158-8852-ffb9aeafab9b",
   "metadata": {},
   "source": [
    "## 3. Data Types and Type Conversion"
   ]
  },
  {
   "cell_type": "markdown",
   "id": "5e396b7e-70c1-4387-b81f-cbabb6afef52",
   "metadata": {},
   "source": [
    "Which of the following will return the floating point number 2.0? Note: there may be more than one right answer."
   ]
  },
  {
   "cell_type": "code",
   "execution_count": 6,
   "id": "322b0430-61fb-4433-9c49-f2634340c151",
   "metadata": {},
   "outputs": [],
   "source": [
    "first = 1.0\n",
    "second = \"1\"\n",
    "third = \"1.1\""
   ]
  },
  {
   "cell_type": "markdown",
   "id": "3d90eedd-09d8-48b3-b503-e7c33b892b25",
   "metadata": {},
   "source": [
    "1. first + float(second)\n",
    "2. float(second) + float(third)\n",
    "3. first + int(third)\n",
    "4. first + int(float(third))\n",
    "5. int(first) + int(float(third))\n",
    "6. 2.0 * second"
   ]
  },
  {
   "cell_type": "markdown",
   "id": "dce2875f-23dd-427e-9ce2-051592c7d10d",
   "metadata": {},
   "source": [
    "**ANSWER:** 1., and 4."
   ]
  },
  {
   "cell_type": "markdown",
   "id": "c4989e50-161b-4875-8dd6-df35453ee621",
   "metadata": {},
   "source": [
    "## 4. Built-in Functions and Help"
   ]
  },
  {
   "cell_type": "markdown",
   "id": "edd311d0-21fe-4ebc-befb-4877a48a3f65",
   "metadata": {},
   "source": [
    "1. Predict what each of the print statements in the program below will print.\n",
    "2. Does max(len(rich), poor) run or produce an error message? If it runs, does its result make any sense?"
   ]
  },
  {
   "cell_type": "code",
   "execution_count": null,
   "id": "fec53a25-49e1-46f2-8803-6017ce411f6b",
   "metadata": {},
   "outputs": [],
   "source": [
    "easy_string = \"abc\"\n",
    "print(max(easy_string))\n",
    "rich = \"gold\"\n",
    "poor = \"tin\"\n",
    "print(max(rich, poor))\n",
    "print(max(len(rich), len(poor)))"
   ]
  },
  {
   "cell_type": "markdown",
   "id": "a724525b-0925-4fa2-be15-b537048704d4",
   "metadata": {},
   "source": [
    "**ANSWER:**  \n",
    "1. \n",
    "    * \"c\"\n",
    "    * \"tin\" (I think strings are ordered by the lexicographic order)\n",
    "    * 4\n",
    "2. it produces an error because int and str are not comparable types"
   ]
  },
  {
   "cell_type": "markdown",
   "id": "ba32a3ca-e5a4-48d8-8dc3-65dadde25546",
   "metadata": {},
   "source": [
    "## 5. Libraries"
   ]
  },
  {
   "cell_type": "markdown",
   "id": "d09a2f18-4192-4e97-b75d-cd3f717ad692",
   "metadata": {},
   "source": [
    "You want to select a random character from a string:"
   ]
  },
  {
   "cell_type": "code",
   "execution_count": 9,
   "id": "ecd3a597-a10b-451d-9126-bc5c10d9cc10",
   "metadata": {},
   "outputs": [],
   "source": [
    "bases = 'ACTTGCTTGAC'"
   ]
  },
  {
   "cell_type": "markdown",
   "id": "c106b07b-5086-4236-8e5c-3cd0ba1e59b9",
   "metadata": {},
   "source": [
    "Which <a style=\"color: blue;\" href=\"https://docs.python.org/3/library/\">standard library</a> module could help you?\n",
    "Which function would you select from that module? Are there alternatives?\n",
    "Try to write a program that uses the function."
   ]
  },
  {
   "cell_type": "code",
   "execution_count": 10,
   "id": "c366db2a-3f54-428c-acc0-758062f2ca48",
   "metadata": {},
   "outputs": [
    {
     "name": "stdout",
     "output_type": "stream",
     "text": [
      "G\n"
     ]
    }
   ],
   "source": [
    "# **ANSWER:** \n",
    "# module random is uses to generate random numbers\n",
    "from random import randint # randint(a,b) generates an integer betwen the numbers a and b\n",
    "N = randint(0,len(bases))\n",
    "print(bases[N]);"
   ]
  },
  {
   "cell_type": "markdown",
   "id": "734bfb7d-55ab-41cb-9832-f31d84243d1d",
   "metadata": {},
   "source": [
    "NOTE: there is another alternative, we can also use randrange(*stop*) which returns an integer betwen 0 and *stop*-1"
   ]
  },
  {
   "cell_type": "markdown",
   "id": "b04d9e9e-604c-4e3c-b824-67d5e045a391",
   "metadata": {},
   "source": [
    "## 6. Reading Tabular Data into DataFrames"
   ]
  },
  {
   "cell_type": "markdown",
   "id": "e8c1a525-b3c5-462c-b091-84f1fac2ed60",
   "metadata": {},
   "source": [
    "Read the data in gapminder_gdp_americas.csv (which should be in the same directory as gapminder_gdp_oceania.csv) into a variable called americas and display its summary statistics."
   ]
  },
  {
   "cell_type": "code",
   "execution_count": 18,
   "id": "becdf3a3-cac6-427c-b127-ac4a3b113bac",
   "metadata": {},
   "outputs": [
    {
     "data": {
      "text/html": [
       "<div>\n",
       "<style scoped>\n",
       "    .dataframe tbody tr th:only-of-type {\n",
       "        vertical-align: middle;\n",
       "    }\n",
       "\n",
       "    .dataframe tbody tr th {\n",
       "        vertical-align: top;\n",
       "    }\n",
       "\n",
       "    .dataframe thead th {\n",
       "        text-align: right;\n",
       "    }\n",
       "</style>\n",
       "<table border=\"1\" class=\"dataframe\">\n",
       "  <thead>\n",
       "    <tr style=\"text-align: right;\">\n",
       "      <th></th>\n",
       "      <th>gdpPercap_1952</th>\n",
       "      <th>gdpPercap_1957</th>\n",
       "      <th>gdpPercap_1962</th>\n",
       "      <th>gdpPercap_1967</th>\n",
       "      <th>gdpPercap_1972</th>\n",
       "      <th>gdpPercap_1977</th>\n",
       "      <th>gdpPercap_1982</th>\n",
       "      <th>gdpPercap_1987</th>\n",
       "      <th>gdpPercap_1992</th>\n",
       "      <th>gdpPercap_1997</th>\n",
       "      <th>gdpPercap_2002</th>\n",
       "      <th>gdpPercap_2007</th>\n",
       "    </tr>\n",
       "  </thead>\n",
       "  <tbody>\n",
       "    <tr>\n",
       "      <th>count</th>\n",
       "      <td>25.000000</td>\n",
       "      <td>25.000000</td>\n",
       "      <td>25.000000</td>\n",
       "      <td>25.000000</td>\n",
       "      <td>25.000000</td>\n",
       "      <td>25.000000</td>\n",
       "      <td>25.000000</td>\n",
       "      <td>25.000000</td>\n",
       "      <td>25.000000</td>\n",
       "      <td>25.000000</td>\n",
       "      <td>25.000000</td>\n",
       "      <td>25.000000</td>\n",
       "    </tr>\n",
       "    <tr>\n",
       "      <th>mean</th>\n",
       "      <td>4079.062552</td>\n",
       "      <td>4616.043733</td>\n",
       "      <td>4901.541870</td>\n",
       "      <td>5668.253496</td>\n",
       "      <td>6491.334139</td>\n",
       "      <td>7352.007126</td>\n",
       "      <td>7506.737088</td>\n",
       "      <td>7793.400261</td>\n",
       "      <td>8044.934406</td>\n",
       "      <td>8889.300863</td>\n",
       "      <td>9287.677107</td>\n",
       "      <td>11003.031625</td>\n",
       "    </tr>\n",
       "    <tr>\n",
       "      <th>std</th>\n",
       "      <td>3001.727522</td>\n",
       "      <td>3312.381083</td>\n",
       "      <td>3421.740569</td>\n",
       "      <td>4160.885560</td>\n",
       "      <td>4754.404329</td>\n",
       "      <td>5355.602518</td>\n",
       "      <td>5530.490471</td>\n",
       "      <td>6665.039509</td>\n",
       "      <td>7047.089191</td>\n",
       "      <td>7874.225145</td>\n",
       "      <td>8895.817785</td>\n",
       "      <td>9713.209302</td>\n",
       "    </tr>\n",
       "    <tr>\n",
       "      <th>min</th>\n",
       "      <td>1397.717137</td>\n",
       "      <td>1544.402995</td>\n",
       "      <td>1662.137359</td>\n",
       "      <td>1452.057666</td>\n",
       "      <td>1654.456946</td>\n",
       "      <td>1874.298931</td>\n",
       "      <td>2011.159549</td>\n",
       "      <td>1823.015995</td>\n",
       "      <td>1456.309517</td>\n",
       "      <td>1341.726931</td>\n",
       "      <td>1270.364932</td>\n",
       "      <td>1201.637154</td>\n",
       "    </tr>\n",
       "    <tr>\n",
       "      <th>25%</th>\n",
       "      <td>2428.237769</td>\n",
       "      <td>2487.365989</td>\n",
       "      <td>2750.364446</td>\n",
       "      <td>3242.531147</td>\n",
       "      <td>4031.408271</td>\n",
       "      <td>4756.763836</td>\n",
       "      <td>4258.503604</td>\n",
       "      <td>4140.442097</td>\n",
       "      <td>4439.450840</td>\n",
       "      <td>4684.313807</td>\n",
       "      <td>4858.347495</td>\n",
       "      <td>5728.353514</td>\n",
       "    </tr>\n",
       "    <tr>\n",
       "      <th>50%</th>\n",
       "      <td>3048.302900</td>\n",
       "      <td>3780.546651</td>\n",
       "      <td>4086.114078</td>\n",
       "      <td>4643.393534</td>\n",
       "      <td>5305.445256</td>\n",
       "      <td>6281.290855</td>\n",
       "      <td>6434.501797</td>\n",
       "      <td>6360.943444</td>\n",
       "      <td>6618.743050</td>\n",
       "      <td>7113.692252</td>\n",
       "      <td>6994.774861</td>\n",
       "      <td>8948.102923</td>\n",
       "    </tr>\n",
       "    <tr>\n",
       "      <th>75%</th>\n",
       "      <td>3939.978789</td>\n",
       "      <td>4756.525781</td>\n",
       "      <td>5180.755910</td>\n",
       "      <td>5788.093330</td>\n",
       "      <td>6809.406690</td>\n",
       "      <td>7674.929108</td>\n",
       "      <td>8997.897412</td>\n",
       "      <td>7807.095818</td>\n",
       "      <td>8137.004775</td>\n",
       "      <td>9767.297530</td>\n",
       "      <td>8797.640716</td>\n",
       "      <td>11977.574960</td>\n",
       "    </tr>\n",
       "    <tr>\n",
       "      <th>max</th>\n",
       "      <td>13990.482080</td>\n",
       "      <td>14847.127120</td>\n",
       "      <td>16173.145860</td>\n",
       "      <td>19530.365570</td>\n",
       "      <td>21806.035940</td>\n",
       "      <td>24072.632130</td>\n",
       "      <td>25009.559140</td>\n",
       "      <td>29884.350410</td>\n",
       "      <td>32003.932240</td>\n",
       "      <td>35767.433030</td>\n",
       "      <td>39097.099550</td>\n",
       "      <td>42951.653090</td>\n",
       "    </tr>\n",
       "  </tbody>\n",
       "</table>\n",
       "</div>"
      ],
      "text/plain": [
       "       gdpPercap_1952  gdpPercap_1957  gdpPercap_1962  gdpPercap_1967  \\\n",
       "count       25.000000       25.000000       25.000000       25.000000   \n",
       "mean      4079.062552     4616.043733     4901.541870     5668.253496   \n",
       "std       3001.727522     3312.381083     3421.740569     4160.885560   \n",
       "min       1397.717137     1544.402995     1662.137359     1452.057666   \n",
       "25%       2428.237769     2487.365989     2750.364446     3242.531147   \n",
       "50%       3048.302900     3780.546651     4086.114078     4643.393534   \n",
       "75%       3939.978789     4756.525781     5180.755910     5788.093330   \n",
       "max      13990.482080    14847.127120    16173.145860    19530.365570   \n",
       "\n",
       "       gdpPercap_1972  gdpPercap_1977  gdpPercap_1982  gdpPercap_1987  \\\n",
       "count       25.000000       25.000000       25.000000       25.000000   \n",
       "mean      6491.334139     7352.007126     7506.737088     7793.400261   \n",
       "std       4754.404329     5355.602518     5530.490471     6665.039509   \n",
       "min       1654.456946     1874.298931     2011.159549     1823.015995   \n",
       "25%       4031.408271     4756.763836     4258.503604     4140.442097   \n",
       "50%       5305.445256     6281.290855     6434.501797     6360.943444   \n",
       "75%       6809.406690     7674.929108     8997.897412     7807.095818   \n",
       "max      21806.035940    24072.632130    25009.559140    29884.350410   \n",
       "\n",
       "       gdpPercap_1992  gdpPercap_1997  gdpPercap_2002  gdpPercap_2007  \n",
       "count       25.000000       25.000000       25.000000       25.000000  \n",
       "mean      8044.934406     8889.300863     9287.677107    11003.031625  \n",
       "std       7047.089191     7874.225145     8895.817785     9713.209302  \n",
       "min       1456.309517     1341.726931     1270.364932     1201.637154  \n",
       "25%       4439.450840     4684.313807     4858.347495     5728.353514  \n",
       "50%       6618.743050     7113.692252     6994.774861     8948.102923  \n",
       "75%       8137.004775     9767.297530     8797.640716    11977.574960  \n",
       "max      32003.932240    35767.433030    39097.099550    42951.653090  "
      ]
     },
     "execution_count": 18,
     "metadata": {},
     "output_type": "execute_result"
    }
   ],
   "source": [
    "# **ANSWER**\n",
    "import pandas as pd\n",
    "america = pd.read_csv('../python-novice-gapminder-data/data/gapminder_gdp_americas.csv')\n",
    "america.describe()"
   ]
  },
  {
   "cell_type": "markdown",
   "id": "7b5f19f9-b959-4097-bd02-3e7870b70ade",
   "metadata": {},
   "source": [
    "# 7. Pandas DataFrames"
   ]
  },
  {
   "cell_type": "markdown",
   "id": "1e06bf19-33e2-41d5-81a8-40a40334ab48",
   "metadata": {},
   "source": [
    "Assume Pandas has been imported and the Gapminder GDP data for Europe has been loaded. Write an expression to select each of the following:\n",
    "\n",
    "1. GDP per capita for all countries in 1982.\n",
    "2. GDP per capita for Denmark for all years.\n",
    "3. GDP per capita for all countries for years after 1985.\n",
    "4. GDP per capita for each country in 2007 as a multiple of GDP per capita for that country in 1952."
   ]
  },
  {
   "cell_type": "code",
   "execution_count": 22,
   "id": "65821417-91af-49c2-9e19-b227c55144e6",
   "metadata": {},
   "outputs": [],
   "source": [
    "# **ANSWER**\n",
    "import pandas as pd\n",
    "data = pd.read_csv('../python-novice-gapminder-data/data/gapminder_gdp_europe.csv', index_col='country')"
   ]
  },
  {
   "cell_type": "code",
   "execution_count": 25,
   "id": "2aac5262-4d66-4967-a5ec-917351570702",
   "metadata": {},
   "outputs": [
    {
     "data": {
      "text/plain": [
       "country\n",
       "Albania                    1601.056136\n",
       "Austria                    6137.076492\n",
       "Belgium                    8343.105127\n",
       "Bosnia and Herzegovina      973.533195\n",
       "Bulgaria                   2444.286648\n",
       "Croatia                    3119.236520\n",
       "Czech Republic             6876.140250\n",
       "Denmark                    9692.385245\n",
       "Finland                    6424.519071\n",
       "France                     7029.809327\n",
       "Germany                    7144.114393\n",
       "Greece                     3530.690067\n",
       "Hungary                    5263.673816\n",
       "Iceland                    7267.688428\n",
       "Ireland                    5210.280328\n",
       "Italy                      4931.404155\n",
       "Montenegro                 2647.585601\n",
       "Netherlands                8941.571858\n",
       "Norway                    10095.421720\n",
       "Poland                     4029.329699\n",
       "Portugal                   3068.319867\n",
       "Romania                    3144.613186\n",
       "Serbia                     3581.459448\n",
       "Slovak Republic            5074.659104\n",
       "Slovenia                   4215.041741\n",
       "Spain                      3834.034742\n",
       "Sweden                     8527.844662\n",
       "Switzerland               14734.232750\n",
       "Turkey                     1969.100980\n",
       "United Kingdom             9979.508487\n",
       "Name: gdpPercap_1952, dtype: float64"
      ]
     },
     "execution_count": 25,
     "metadata": {},
     "output_type": "execute_result"
    }
   ],
   "source": [
    "# 1.\n",
    "data.gdpPercap_1952"
   ]
  },
  {
   "cell_type": "code",
   "execution_count": 26,
   "id": "ae8d1e04-f1d9-46c3-aaba-d0fb2711c815",
   "metadata": {},
   "outputs": [
    {
     "data": {
      "text/plain": [
       "gdpPercap_1952     9692.385245\n",
       "gdpPercap_1957    11099.659350\n",
       "gdpPercap_1962    13583.313510\n",
       "gdpPercap_1967    15937.211230\n",
       "gdpPercap_1972    18866.207210\n",
       "gdpPercap_1977    20422.901500\n",
       "gdpPercap_1982    21688.040480\n",
       "gdpPercap_1987    25116.175810\n",
       "gdpPercap_1992    26406.739850\n",
       "gdpPercap_1997    29804.345670\n",
       "gdpPercap_2002    32166.500060\n",
       "gdpPercap_2007    35278.418740\n",
       "Name: Denmark, dtype: float64"
      ]
     },
     "execution_count": 26,
     "metadata": {},
     "output_type": "execute_result"
    }
   ],
   "source": [
    "# 2.\n",
    "data.loc[\"Denmark\"]"
   ]
  },
  {
   "cell_type": "code",
   "execution_count": 31,
   "id": "3fe7f277-aaaa-4f91-ac74-b666a0548f00",
   "metadata": {},
   "outputs": [
    {
     "data": {
      "text/html": [
       "<div>\n",
       "<style scoped>\n",
       "    .dataframe tbody tr th:only-of-type {\n",
       "        vertical-align: middle;\n",
       "    }\n",
       "\n",
       "    .dataframe tbody tr th {\n",
       "        vertical-align: top;\n",
       "    }\n",
       "\n",
       "    .dataframe thead th {\n",
       "        text-align: right;\n",
       "    }\n",
       "</style>\n",
       "<table border=\"1\" class=\"dataframe\">\n",
       "  <thead>\n",
       "    <tr style=\"text-align: right;\">\n",
       "      <th></th>\n",
       "      <th>gdpPercap_1987</th>\n",
       "      <th>gdpPercap_1992</th>\n",
       "      <th>gdpPercap_1997</th>\n",
       "      <th>gdpPercap_2002</th>\n",
       "      <th>gdpPercap_2007</th>\n",
       "    </tr>\n",
       "    <tr>\n",
       "      <th>country</th>\n",
       "      <th></th>\n",
       "      <th></th>\n",
       "      <th></th>\n",
       "      <th></th>\n",
       "      <th></th>\n",
       "    </tr>\n",
       "  </thead>\n",
       "  <tbody>\n",
       "    <tr>\n",
       "      <th>Albania</th>\n",
       "      <td>3738.932735</td>\n",
       "      <td>2497.437901</td>\n",
       "      <td>3193.054604</td>\n",
       "      <td>4604.211737</td>\n",
       "      <td>5937.029526</td>\n",
       "    </tr>\n",
       "    <tr>\n",
       "      <th>Austria</th>\n",
       "      <td>23687.826070</td>\n",
       "      <td>27042.018680</td>\n",
       "      <td>29095.920660</td>\n",
       "      <td>32417.607690</td>\n",
       "      <td>36126.492700</td>\n",
       "    </tr>\n",
       "    <tr>\n",
       "      <th>Belgium</th>\n",
       "      <td>22525.563080</td>\n",
       "      <td>25575.570690</td>\n",
       "      <td>27561.196630</td>\n",
       "      <td>30485.883750</td>\n",
       "      <td>33692.605080</td>\n",
       "    </tr>\n",
       "    <tr>\n",
       "      <th>Bosnia and Herzegovina</th>\n",
       "      <td>4314.114757</td>\n",
       "      <td>2546.781445</td>\n",
       "      <td>4766.355904</td>\n",
       "      <td>6018.975239</td>\n",
       "      <td>7446.298803</td>\n",
       "    </tr>\n",
       "    <tr>\n",
       "      <th>Bulgaria</th>\n",
       "      <td>8239.854824</td>\n",
       "      <td>6302.623438</td>\n",
       "      <td>5970.388760</td>\n",
       "      <td>7696.777725</td>\n",
       "      <td>10680.792820</td>\n",
       "    </tr>\n",
       "    <tr>\n",
       "      <th>Croatia</th>\n",
       "      <td>13822.583940</td>\n",
       "      <td>8447.794873</td>\n",
       "      <td>9875.604515</td>\n",
       "      <td>11628.388950</td>\n",
       "      <td>14619.222720</td>\n",
       "    </tr>\n",
       "    <tr>\n",
       "      <th>Czech Republic</th>\n",
       "      <td>16310.443400</td>\n",
       "      <td>14297.021220</td>\n",
       "      <td>16048.514240</td>\n",
       "      <td>17596.210220</td>\n",
       "      <td>22833.308510</td>\n",
       "    </tr>\n",
       "    <tr>\n",
       "      <th>Denmark</th>\n",
       "      <td>25116.175810</td>\n",
       "      <td>26406.739850</td>\n",
       "      <td>29804.345670</td>\n",
       "      <td>32166.500060</td>\n",
       "      <td>35278.418740</td>\n",
       "    </tr>\n",
       "    <tr>\n",
       "      <th>Finland</th>\n",
       "      <td>21141.012230</td>\n",
       "      <td>20647.164990</td>\n",
       "      <td>23723.950200</td>\n",
       "      <td>28204.590570</td>\n",
       "      <td>33207.084400</td>\n",
       "    </tr>\n",
       "    <tr>\n",
       "      <th>France</th>\n",
       "      <td>22066.442140</td>\n",
       "      <td>24703.796150</td>\n",
       "      <td>25889.784870</td>\n",
       "      <td>28926.032340</td>\n",
       "      <td>30470.016700</td>\n",
       "    </tr>\n",
       "    <tr>\n",
       "      <th>Germany</th>\n",
       "      <td>24639.185660</td>\n",
       "      <td>26505.303170</td>\n",
       "      <td>27788.884160</td>\n",
       "      <td>30035.801980</td>\n",
       "      <td>32170.374420</td>\n",
       "    </tr>\n",
       "    <tr>\n",
       "      <th>Greece</th>\n",
       "      <td>16120.528390</td>\n",
       "      <td>17541.496340</td>\n",
       "      <td>18747.698140</td>\n",
       "      <td>22514.254800</td>\n",
       "      <td>27538.411880</td>\n",
       "    </tr>\n",
       "    <tr>\n",
       "      <th>Hungary</th>\n",
       "      <td>12986.479980</td>\n",
       "      <td>10535.628550</td>\n",
       "      <td>11712.776800</td>\n",
       "      <td>14843.935560</td>\n",
       "      <td>18008.944440</td>\n",
       "    </tr>\n",
       "    <tr>\n",
       "      <th>Iceland</th>\n",
       "      <td>26923.206280</td>\n",
       "      <td>25144.392010</td>\n",
       "      <td>28061.099660</td>\n",
       "      <td>31163.201960</td>\n",
       "      <td>36180.789190</td>\n",
       "    </tr>\n",
       "    <tr>\n",
       "      <th>Ireland</th>\n",
       "      <td>13872.866520</td>\n",
       "      <td>17558.815550</td>\n",
       "      <td>24521.947130</td>\n",
       "      <td>34077.049390</td>\n",
       "      <td>40675.996350</td>\n",
       "    </tr>\n",
       "    <tr>\n",
       "      <th>Italy</th>\n",
       "      <td>19207.234820</td>\n",
       "      <td>22013.644860</td>\n",
       "      <td>24675.024460</td>\n",
       "      <td>27968.098170</td>\n",
       "      <td>28569.719700</td>\n",
       "    </tr>\n",
       "    <tr>\n",
       "      <th>Montenegro</th>\n",
       "      <td>11732.510170</td>\n",
       "      <td>7003.339037</td>\n",
       "      <td>6465.613349</td>\n",
       "      <td>6557.194282</td>\n",
       "      <td>9253.896111</td>\n",
       "    </tr>\n",
       "    <tr>\n",
       "      <th>Netherlands</th>\n",
       "      <td>23651.323610</td>\n",
       "      <td>26790.949610</td>\n",
       "      <td>30246.130630</td>\n",
       "      <td>33724.757780</td>\n",
       "      <td>36797.933320</td>\n",
       "    </tr>\n",
       "    <tr>\n",
       "      <th>Norway</th>\n",
       "      <td>31540.974800</td>\n",
       "      <td>33965.661150</td>\n",
       "      <td>41283.164330</td>\n",
       "      <td>44683.975250</td>\n",
       "      <td>49357.190170</td>\n",
       "    </tr>\n",
       "    <tr>\n",
       "      <th>Poland</th>\n",
       "      <td>9082.351172</td>\n",
       "      <td>7738.881247</td>\n",
       "      <td>10159.583680</td>\n",
       "      <td>12002.239080</td>\n",
       "      <td>15389.924680</td>\n",
       "    </tr>\n",
       "    <tr>\n",
       "      <th>Portugal</th>\n",
       "      <td>13039.308760</td>\n",
       "      <td>16207.266630</td>\n",
       "      <td>17641.031560</td>\n",
       "      <td>19970.907870</td>\n",
       "      <td>20509.647770</td>\n",
       "    </tr>\n",
       "    <tr>\n",
       "      <th>Romania</th>\n",
       "      <td>9696.273295</td>\n",
       "      <td>6598.409903</td>\n",
       "      <td>7346.547557</td>\n",
       "      <td>7885.360081</td>\n",
       "      <td>10808.475610</td>\n",
       "    </tr>\n",
       "    <tr>\n",
       "      <th>Serbia</th>\n",
       "      <td>15870.878510</td>\n",
       "      <td>9325.068238</td>\n",
       "      <td>7914.320304</td>\n",
       "      <td>7236.075251</td>\n",
       "      <td>9786.534714</td>\n",
       "    </tr>\n",
       "    <tr>\n",
       "      <th>Slovak Republic</th>\n",
       "      <td>12037.267580</td>\n",
       "      <td>9498.467723</td>\n",
       "      <td>12126.230650</td>\n",
       "      <td>13638.778370</td>\n",
       "      <td>18678.314350</td>\n",
       "    </tr>\n",
       "    <tr>\n",
       "      <th>Slovenia</th>\n",
       "      <td>18678.534920</td>\n",
       "      <td>14214.716810</td>\n",
       "      <td>17161.107350</td>\n",
       "      <td>20660.019360</td>\n",
       "      <td>25768.257590</td>\n",
       "    </tr>\n",
       "    <tr>\n",
       "      <th>Spain</th>\n",
       "      <td>15764.983130</td>\n",
       "      <td>18603.064520</td>\n",
       "      <td>20445.298960</td>\n",
       "      <td>24835.471660</td>\n",
       "      <td>28821.063700</td>\n",
       "    </tr>\n",
       "    <tr>\n",
       "      <th>Sweden</th>\n",
       "      <td>23586.929270</td>\n",
       "      <td>23880.016830</td>\n",
       "      <td>25266.594990</td>\n",
       "      <td>29341.630930</td>\n",
       "      <td>33859.748350</td>\n",
       "    </tr>\n",
       "    <tr>\n",
       "      <th>Switzerland</th>\n",
       "      <td>30281.704590</td>\n",
       "      <td>31871.530300</td>\n",
       "      <td>32135.323010</td>\n",
       "      <td>34480.957710</td>\n",
       "      <td>37506.419070</td>\n",
       "    </tr>\n",
       "    <tr>\n",
       "      <th>Turkey</th>\n",
       "      <td>5089.043686</td>\n",
       "      <td>5678.348271</td>\n",
       "      <td>6601.429915</td>\n",
       "      <td>6508.085718</td>\n",
       "      <td>8458.276384</td>\n",
       "    </tr>\n",
       "    <tr>\n",
       "      <th>United Kingdom</th>\n",
       "      <td>21664.787670</td>\n",
       "      <td>22705.092540</td>\n",
       "      <td>26074.531360</td>\n",
       "      <td>29478.999190</td>\n",
       "      <td>33203.261280</td>\n",
       "    </tr>\n",
       "  </tbody>\n",
       "</table>\n",
       "</div>"
      ],
      "text/plain": [
       "                        gdpPercap_1987  gdpPercap_1992  gdpPercap_1997  \\\n",
       "country                                                                  \n",
       "Albania                    3738.932735     2497.437901     3193.054604   \n",
       "Austria                   23687.826070    27042.018680    29095.920660   \n",
       "Belgium                   22525.563080    25575.570690    27561.196630   \n",
       "Bosnia and Herzegovina     4314.114757     2546.781445     4766.355904   \n",
       "Bulgaria                   8239.854824     6302.623438     5970.388760   \n",
       "Croatia                   13822.583940     8447.794873     9875.604515   \n",
       "Czech Republic            16310.443400    14297.021220    16048.514240   \n",
       "Denmark                   25116.175810    26406.739850    29804.345670   \n",
       "Finland                   21141.012230    20647.164990    23723.950200   \n",
       "France                    22066.442140    24703.796150    25889.784870   \n",
       "Germany                   24639.185660    26505.303170    27788.884160   \n",
       "Greece                    16120.528390    17541.496340    18747.698140   \n",
       "Hungary                   12986.479980    10535.628550    11712.776800   \n",
       "Iceland                   26923.206280    25144.392010    28061.099660   \n",
       "Ireland                   13872.866520    17558.815550    24521.947130   \n",
       "Italy                     19207.234820    22013.644860    24675.024460   \n",
       "Montenegro                11732.510170     7003.339037     6465.613349   \n",
       "Netherlands               23651.323610    26790.949610    30246.130630   \n",
       "Norway                    31540.974800    33965.661150    41283.164330   \n",
       "Poland                     9082.351172     7738.881247    10159.583680   \n",
       "Portugal                  13039.308760    16207.266630    17641.031560   \n",
       "Romania                    9696.273295     6598.409903     7346.547557   \n",
       "Serbia                    15870.878510     9325.068238     7914.320304   \n",
       "Slovak Republic           12037.267580     9498.467723    12126.230650   \n",
       "Slovenia                  18678.534920    14214.716810    17161.107350   \n",
       "Spain                     15764.983130    18603.064520    20445.298960   \n",
       "Sweden                    23586.929270    23880.016830    25266.594990   \n",
       "Switzerland               30281.704590    31871.530300    32135.323010   \n",
       "Turkey                     5089.043686     5678.348271     6601.429915   \n",
       "United Kingdom            21664.787670    22705.092540    26074.531360   \n",
       "\n",
       "                        gdpPercap_2002  gdpPercap_2007  \n",
       "country                                                 \n",
       "Albania                    4604.211737     5937.029526  \n",
       "Austria                   32417.607690    36126.492700  \n",
       "Belgium                   30485.883750    33692.605080  \n",
       "Bosnia and Herzegovina     6018.975239     7446.298803  \n",
       "Bulgaria                   7696.777725    10680.792820  \n",
       "Croatia                   11628.388950    14619.222720  \n",
       "Czech Republic            17596.210220    22833.308510  \n",
       "Denmark                   32166.500060    35278.418740  \n",
       "Finland                   28204.590570    33207.084400  \n",
       "France                    28926.032340    30470.016700  \n",
       "Germany                   30035.801980    32170.374420  \n",
       "Greece                    22514.254800    27538.411880  \n",
       "Hungary                   14843.935560    18008.944440  \n",
       "Iceland                   31163.201960    36180.789190  \n",
       "Ireland                   34077.049390    40675.996350  \n",
       "Italy                     27968.098170    28569.719700  \n",
       "Montenegro                 6557.194282     9253.896111  \n",
       "Netherlands               33724.757780    36797.933320  \n",
       "Norway                    44683.975250    49357.190170  \n",
       "Poland                    12002.239080    15389.924680  \n",
       "Portugal                  19970.907870    20509.647770  \n",
       "Romania                    7885.360081    10808.475610  \n",
       "Serbia                     7236.075251     9786.534714  \n",
       "Slovak Republic           13638.778370    18678.314350  \n",
       "Slovenia                  20660.019360    25768.257590  \n",
       "Spain                     24835.471660    28821.063700  \n",
       "Sweden                    29341.630930    33859.748350  \n",
       "Switzerland               34480.957710    37506.419070  \n",
       "Turkey                     6508.085718     8458.276384  \n",
       "United Kingdom            29478.999190    33203.261280  "
      ]
     },
     "execution_count": 31,
     "metadata": {},
     "output_type": "execute_result"
    }
   ],
   "source": [
    "# 3.\n",
    "GDP_after_1985 = data.loc[:, 'gdpPercap_1986':]\n",
    "GDP_after_1985"
   ]
  },
  {
   "cell_type": "code",
   "execution_count": 33,
   "id": "bbced48f-cacf-4136-9d08-2da01ff0937c",
   "metadata": {},
   "outputs": [
    {
     "data": {
      "text/plain": [
       "country\n",
       "Albania                   3.708196\n",
       "Austria                   5.886596\n",
       "Belgium                   4.038377\n",
       "Bosnia and Herzegovina    7.648736\n",
       "Bulgaria                  4.369697\n",
       "Croatia                   4.686795\n",
       "Czech Republic            3.320658\n",
       "Denmark                   3.639808\n",
       "Finland                   5.168805\n",
       "France                    4.334402\n",
       "Germany                   4.503060\n",
       "Greece                    7.799725\n",
       "Hungary                   3.421364\n",
       "Iceland                   4.978308\n",
       "Ireland                   7.806873\n",
       "Italy                     5.793425\n",
       "Montenegro                3.495221\n",
       "Netherlands               4.115376\n",
       "Norway                    4.889067\n",
       "Poland                    3.819475\n",
       "Portugal                  6.684325\n",
       "Romania                   3.437140\n",
       "Serbia                    2.732555\n",
       "Slovak Republic           3.680703\n",
       "Slovenia                  6.113405\n",
       "Spain                     7.517163\n",
       "Sweden                    3.970493\n",
       "Switzerland               2.545529\n",
       "Turkey                    4.295502\n",
       "United Kingdom            3.327144\n",
       "dtype: float64"
      ]
     },
     "execution_count": 33,
     "metadata": {},
     "output_type": "execute_result"
    }
   ],
   "source": [
    "GDP_2007 = data.gdpPercap_2007\n",
    "GDP_1952 = data.gdpPercap_1952\n",
    "GDP_2007/GDP_1952"
   ]
  },
  {
   "cell_type": "markdown",
   "id": "d33b2cca-4a25-431d-99d1-b94e409029e7",
   "metadata": {},
   "source": [
    "# 8. Plotting"
   ]
  },
  {
   "cell_type": "markdown",
   "id": "c084164f-3bb7-4ac4-9c58-31aba64f414e",
   "metadata": {},
   "source": [
    "Modify the example in the notes to create a scatter plot showing the relationship between the minimum and maximum GDP per capita among the countries in Asia for each year in the data set. What relationship do you see (if any)?"
   ]
  },
  {
   "cell_type": "code",
   "execution_count": 56,
   "id": "8afbca20-5c75-4212-b26f-95fdec15e5d2",
   "metadata": {},
   "outputs": [
    {
     "data": {
      "text/plain": [
       "Text(0, 0.5, 'min')"
      ]
     },
     "execution_count": 56,
     "metadata": {},
     "output_type": "execute_result"
    },
    {
     "data": {
      "image/png": "[encoded data removed]",
      "text/plain": [
       "<Figure size 432x288 with 1 Axes>"
      ]
     },
     "metadata": {
      "needs_background": "light"
     },
     "output_type": "display_data"
    }
   ],
   "source": [
    "# **ANSWER**\n",
    "import matplotlib.pyplot as plt\n",
    "max_GDP_asia = pd.read_csv('../python-novice-gapminder-data/data/gapminder_gdp_asia.csv', index_col='country').max();\n",
    "min_GDP_asia = pd.read_csv('../python-novice-gapminder-data/data/gapminder_gdp_asia.csv', index_col='country').min();\n",
    "\n",
    "plt.scatter(max_GDP_asia, min_GDP_asia)\n",
    "plt.xlabel('max')\n",
    "plt.ylabel('min')"
   ]
  },
  {
   "cell_type": "markdown",
   "id": "4fdcd6d6-28a9-4fea-91a2-6b95abb68e89",
   "metadata": {},
   "source": [
    "NOTE: I don't see any relation in this plot"
   ]
  },
  {
   "cell_type": "markdown",
   "id": "57002911-9845-4991-a773-a7f436c671b5",
   "metadata": {},
   "source": [
    "## 9. Lists"
   ]
  },
  {
   "cell_type": "markdown",
   "id": "ab7c2f4e-5606-4a21-962b-38eb843c1cf5",
   "metadata": {},
   "source": [
    "What does the following program print?"
   ]
  },
  {
   "cell_type": "code",
   "execution_count": 6,
   "id": "a934d035-23b9-4cd2-8f21-5ec4a28b9542",
   "metadata": {},
   "outputs": [
    {
     "name": "stdout",
     "output_type": "stream",
     "text": [
      "m\n"
     ]
    }
   ],
   "source": [
    "element = 'helium'\n",
    "print(element[-1])"
   ]
  },
  {
   "cell_type": "markdown",
   "id": "f52117a0-f95c-47cd-ad8a-0f33407a2a00",
   "metadata": {},
   "source": [
    "1. How does Python interpret a negative index?\n",
    "2. If a list or string has N elements, what is the most negative index that can safely be used with it, and what location does that index represent?\n",
    "3. If values is a list, what does del values[-1] do?\n",
    "4. How can you display all elements but the last one without changing values? (Hint: you will need to combine slicing and negative indexing.)"
   ]
  },
  {
   "cell_type": "markdown",
   "id": "1a6f6396-912b-4e6f-a9ea-734c9acf2473",
   "metadata": {},
   "source": [
    "**ANSWER**\n",
    "1. It counts backward starting from the last item of the lists. It means, if $n$ is a positive number, then list[$-n$] = list[len(lists)-$n$]\n",
    "2. -N and it represent the first element, i.e. lists[0]\n",
    "3. del values[-1] deletes the last element of the list.\n",
    "4. print(values[0:-1])"
   ]
  },
  {
   "cell_type": "markdown",
   "id": "d551180c-41e6-44f7-8194-258305cabe6e",
   "metadata": {},
   "source": [
    "## 10. For Loops"
   ]
  },
  {
   "cell_type": "markdown",
   "id": "3e848948-ed25-403b-a97a-6fa3fee86239",
   "metadata": {},
   "source": [
    "Create an acronym: Starting from the list [\"red\", \"green\", \"blue\"], create the acronym \"RGB\" using a for loop."
   ]
  },
  {
   "cell_type": "code",
   "execution_count": 11,
   "id": "243f7040-4302-4973-8c94-2bde43d32f13",
   "metadata": {},
   "outputs": [
    {
     "name": "stdout",
     "output_type": "stream",
     "text": [
      "RGB\n"
     ]
    }
   ],
   "source": [
    "# **ANSWER**\n",
    "colors = [\"red\", \"green\", \"blue\"]\n",
    "acronym = \"\"\n",
    "for color in colors:\n",
    "    acronym = acronym + color[0].upper()\n",
    "print(acronym)    "
   ]
  },
  {
   "cell_type": "markdown",
   "id": "6dbf9782-4cd7-434a-b294-7eab0812edaf",
   "metadata": {},
   "source": [
    "## 11. Conditionals"
   ]
  },
  {
   "cell_type": "markdown",
   "id": "e6dc3736-3f51-4e7b-b86d-51e1025e9406",
   "metadata": {},
   "source": [
    "Modify this program so that it only processes files with fewer than 50 records."
   ]
  },
  {
   "cell_type": "code",
   "execution_count": null,
   "id": "54468b84-21c7-4459-a68f-9eb85078f11d",
   "metadata": {},
   "outputs": [],
   "source": [
    "import glob\n",
    "import pandas as pd\n",
    "for filename in glob.glob('data/*.csv'):\n",
    "    contents = pd.read_csv(filename)\n",
    "    ____:\n",
    "        print(filename, len(contents))"
   ]
  },
  {
   "cell_type": "code",
   "execution_count": 16,
   "id": "3cb7322a-26ec-41b5-86d0-fc1b1a29657a",
   "metadata": {},
   "outputs": [
    {
     "name": "stdout",
     "output_type": "stream",
     "text": [
      "../python-novice-gapminder-data/data/gapminder_gdp_asia.csv 33\n",
      "../python-novice-gapminder-data/data/gapminder_gdp_oceania.csv 2\n",
      "../python-novice-gapminder-data/data/gapminder_gdp_europe.csv 30\n",
      "../python-novice-gapminder-data/data/gapminder_gdp_americas.csv 25\n"
     ]
    }
   ],
   "source": [
    "# **ANSWER**\n",
    "import glob\n",
    "import pandas as pd\n",
    "for filename in glob.glob('../*/data/*.csv'):\n",
    "    contents = pd.read_csv(filename)\n",
    "    if len(contents) < 50:\n",
    "        print(filename, len(contents))"
   ]
  },
  {
   "cell_type": "markdown",
   "id": "51db2932-59c1-412a-9f32-03b0c7127e9a",
   "metadata": {},
   "source": [
    "## 12. Looping Over Data Sets"
   ]
  },
  {
   "cell_type": "markdown",
   "id": "0659935d-cc44-40f6-818a-133073d2bd3d",
   "metadata": {},
   "source": [
    "Write a program that reads in the regional data sets and plots the average GDP per capita for each region over time in a single chart."
   ]
  },
  {
   "cell_type": "code",
   "execution_count": 99,
   "id": "c04b2855-a6a2-464b-88ec-211adb2d715c",
   "metadata": {},
   "outputs": [
    {
     "data": {
      "image/png": "[encoded data removed]",
      "text/plain": [
       "<Figure size 432x288 with 1 Axes>"
      ]
     },
     "metadata": {
      "needs_background": "light"
     },
     "output_type": "display_data"
    }
   ],
   "source": [
    "import glob\n",
    "import pandas as pd\n",
    "import matplotlib.pyplot as plt\n",
    "fig,ax = plt.subplots(1,1)\n",
    "\n",
    "for filename in glob.glob('../*/data/gapminder_gdp_*.csv'):\n",
    "    dataframe = pd.read_csv(filename)\n",
    "    # extract <region> from the filename, expected to be in the format 'data/gapminder_gdp_<region>.csv'.\n",
    "    # we will split the string using the split method and `_` as our separator,\n",
    "    # retrieve the last string in the list that split returns (`<region>.csv`), \n",
    "    # and then remove the `.csv` extension from that string.\n",
    "    region = filename.split('_')[-1][:-4] \n",
    "    dataframe.mean().plot(ax=ax, label=region)\n",
    "plt.legend()\n",
    "plt.show()"
   ]
  },
  {
   "cell_type": "markdown",
   "id": "35eb8bdd-37e0-4c1b-81f7-afbc6ae6814e",
   "metadata": {},
   "source": [
    "**NOTE:** I couldn't do this excercise until I looked at the solution on the notes. "
   ]
  },
  {
   "cell_type": "markdown",
   "id": "7425917f-586f-4654-8cd3-ef1cdd3ec6ba",
   "metadata": {},
   "source": [
    "## 13. Writing Functions"
   ]
  },
  {
   "cell_type": "markdown",
   "id": "dce56460-d848-4a6d-b5e0-65fec41da082",
   "metadata": {},
   "source": [
    "In mathematics, a dynamical system is a system in which a function describes the time dependence of a point in a geometrical space. A canonical example of a dynamical system is the logistic map, a growth model that computes a new population density (between 0 and 1) based on the current density. In the model, time takes discrete values 0, 1, 2, …\n",
    "\n",
    "1. Define a function called logistic_map that takes two inputs: x, representing the current population (at time t), and a parameter r = 1. This function should return a value representing the state of the system (population) at time t + 1, using the mapping function:\n",
    "\n",
    "$$f(t+1) = r * f(t) * [1 - f(t)]$$\n",
    "\n",
    "2. Using a for or while loop, iterate the logistic_map function defined in part 1, starting from an initial population of 0.5, for a period of time t_final = 10. Store the intermediate results in a list so that after the loop terminates you have accumulated a sequence of values representing the state of the logistic map at times t = [0,1,...,t_final]. Print this list to see the evolution of the population.\n",
    "\n",
    "3. Encapsulate the logic of your loop into a function called iterate that takes the initial population as its first input, the parameter t_final as its second input and the parameter r as its third input. The function should return the list of values representing the state of the logistic map at times t = [0,1,...,t_final]. Run this function for periods t_final = 100 and 1000 and print some of the values. Is the population trending toward a steady state?"
   ]
  },
  {
   "cell_type": "code",
   "execution_count": 32,
   "id": "4919473a-ff69-4c03-816d-b71fc15eb887",
   "metadata": {},
   "outputs": [
    {
     "name": "stdout",
     "output_type": "stream",
     "text": [
      "0.009485759503982033\n",
      "0\n",
      "0.2541\n",
      "0\n"
     ]
    }
   ],
   "source": [
    "# **ANSWER**\n",
    "\n",
    "def logistic_map(x,r=1):\n",
    "    return r*x*(1-x)\n",
    "\n",
    "def iterate(p_initial, t_final, r):\n",
    "    population = p_initial\n",
    "    evolution_of_population = []\n",
    "    for time in range(t_final):\n",
    "        evolution_of_population.append(population)\n",
    "        population = logistic_map(population,r)\n",
    "    return evolution_of_population\n",
    "\n",
    "print(iterate(0.5, 100, 1)[99])\n",
    "print(iterate(1,1000,5)[999])\n",
    "print(iterate(0.3,1000,-1)[2])\n",
    "print(iterate(0,1000,1)[229])"
   ]
  }
 ],
 "metadata": {
  "kernelspec": {
   "display_name": "Python 3",
   "language": "python",
   "name": "python3"
  },
  "language_info": {
   "codemirror_mode": {
    "name": "ipython",
    "version": 3
   },
   "file_extension": ".py",
   "mimetype": "text/x-python",
   "name": "python",
   "nbconvert_exporter": "python",
   "pygments_lexer": "ipython3",
   "version": "3.8.8"
  }
 },
 "nbformat": 4,
 "nbformat_minor": 5
}
