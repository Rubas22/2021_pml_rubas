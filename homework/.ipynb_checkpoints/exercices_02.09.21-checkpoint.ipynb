{
 "cells": [
  {
   "cell_type": "code",
   "execution_count": 3,
   "id": "7060128c-509d-431a-bfdd-38352272338e",
   "metadata": {},
   "outputs": [],
   "source": [
    "import numpy as np\n",
    "import matplotlib.pyplot as plt\n",
    "import pandas as pd\n",
    "import mglearn\n",
    "from sklearn.datasets import load_iris\n",
    "\n",
    "iris_dataset = load_iris()"
   ]
  },
  {
   "cell_type": "markdown",
   "id": "39157e2a-4527-46a3-a346-cc48ab70fb55",
   "metadata": {},
   "source": [
    "1.- Write a Python program to split the iris dataset into its attributes (X) and labels (y). The X variable contains the first four columns (i.e. attributes) and y contains the labels of the dataset"
   ]
  },
  {
   "cell_type": "code",
   "execution_count": 4,
   "id": "9b48aecb-fbe6-4616-bc81-5b556078cbd1",
   "metadata": {},
   "outputs": [],
   "source": [
    "X = iris_dataset['data']\n",
    "y = iris_dataset['target']"
   ]
  },
  {
   "cell_type": "markdown",
   "id": "52fbe1a8-b025-48cc-b665-f144a2160c5d",
   "metadata": {},
   "source": [
    "2.- Write a Python program using Scikit-learn to split the iris dataset into 80% train data and 20% test data. Out of total 150 records, the training set will contain 120 records and the test set contains 30 of those records. Print both datasets. "
   ]
  },
  {
   "cell_type": "code",
   "execution_count": 27,
   "id": "8c0bf1d7-2ea1-4c6b-b026-35017fd0bf33",
   "metadata": {},
   "outputs": [
    {
     "name": "stdout",
     "output_type": "stream",
     "text": [
      "Train data:\n",
      "(120, 4)\n",
      "Test data:\n",
      "(30, 4)\n"
     ]
    }
   ],
   "source": [
    "from sklearn.model_selection import train_test_split\n",
    "# Splitting the dataset into 80% and 20%\n",
    "# Our seed is set as 0\n",
    "X_train, X_test, y_train, y_test = train_test_split(X, y, train_size = 0.8, random_state=0)\n",
    "print('Train data:\\n{}'.format(X_train.shape))\n",
    "print('Test data:\\n{}'.format(X_test.shape))"
   ]
  },
  {
   "cell_type": "markdown",
   "id": "a456c71a-ec88-4ddf-ac53-0616262e9696",
   "metadata": {},
   "source": [
    "3.- Write a Python program using Scikit-learn to convert Species columns in a numerical column of the iris dataframe. To encode this data map convert each value to a number. e.g. Iris-setosa:0, Iris-versicolor:1, and Iris-virginica:2. Now print the iris dataset into 80% train data and 20% test data. Out of total 150 records, the training set will contain 120 records and the test set contains 30 of those records. Print both datasets"
   ]
  },
  {
   "cell_type": "code",
   "execution_count": null,
   "id": "a047d92d-a57d-40c9-97cd-32f532a1033c",
   "metadata": {},
   "outputs": [],
   "source": [
    "# The Species columns were already encoded."
   ]
  },
  {
   "cell_type": "markdown",
   "id": "2648b870-f4a5-4a21-bd84-f6910d446da9",
   "metadata": {},
   "source": [
    "4.- Write a Python program using Scikit-learn to split the iris dataset into 70% train data and 30% test data. Out of total 150 records, the training set will contain 105 records and the test set contains 45 of those records. Predict the response for test dataset (SepalLengthCm, SepalWidthCm, PetalLengthCm, PetalWidthCm) using the K Nearest Neighbor Algorithm. Use 5 as number of neighbors."
   ]
  },
  {
   "cell_type": "code",
   "execution_count": 9,
   "id": "ae8c51fe-a236-4585-9746-bfb311c117bf",
   "metadata": {},
   "outputs": [
    {
     "name": "stdout",
     "output_type": "stream",
     "text": [
      "Prediction: [2 1 0 2 0 2 0 1 1 1 2 1 1 1 1 0 1 1 0 0 2 1 0 0 2 0 0 1 1 0 2 1 0 2 2 1 0\n",
      " 2 1 1 2 0 2 0 0]\n",
      "Predicted target name: ['virginica' 'versicolor' 'setosa' 'virginica' 'setosa' 'virginica'\n",
      " 'setosa' 'versicolor' 'versicolor' 'versicolor' 'virginica' 'versicolor'\n",
      " 'versicolor' 'versicolor' 'versicolor' 'setosa' 'versicolor' 'versicolor'\n",
      " 'setosa' 'setosa' 'virginica' 'versicolor' 'setosa' 'setosa' 'virginica'\n",
      " 'setosa' 'setosa' 'versicolor' 'versicolor' 'setosa' 'virginica'\n",
      " 'versicolor' 'setosa' 'virginica' 'virginica' 'versicolor' 'setosa'\n",
      " 'virginica' 'versicolor' 'versicolor' 'virginica' 'setosa' 'virginica'\n",
      " 'setosa' 'setosa']\n"
     ]
    }
   ],
   "source": [
    "from sklearn.model_selection import train_test_split\n",
    "from sklearn.neighbors import KNeighborsClassifier\n",
    "# Splitting the dataset into 70% and 30%\n",
    "# Our seed is set as 0\n",
    "X_train, X_test, y_train, y_test = train_test_split(X, y, train_size = 0.7, random_state=0)\n",
    "# The defaul balue of neighbors on KNeighborsClassifier is 5.\n",
    "knn = KNeighborsClassifier()\n",
    "#Storing the training dataset\n",
    "knn.fit(X_train, y_train)\n",
    "# Making prediction for test dataset\n",
    "prediction = knn.predict(X_test)\n",
    "print(\"Prediction: {}\".format(prediction))\n",
    "print(\"Predicted target name: {}\".format(iris_dataset['target_names'][prediction]))"
   ]
  },
  {
   "cell_type": "markdown",
   "id": "68280f67-0f8d-4fea-8cf7-bfdc8d95258d",
   "metadata": {},
   "source": [
    "5.- Write a Python program using Scikit-learn to split the iris dataset into 80% train data and 20% test data. Out of total 150 records, the training set will contain 120 records and the test set contains 30 of those records. Train or fit the data into the model and calculate the accuracy of the model using the K Nearest Neighbor Algorithm."
   ]
  },
  {
   "cell_type": "code",
   "execution_count": 8,
   "id": "7be4ee5c-6f4f-450b-960a-dbf6e6461930",
   "metadata": {},
   "outputs": [
    {
     "name": "stdout",
     "output_type": "stream",
     "text": [
      "Test set score: 0.97\n"
     ]
    }
   ],
   "source": [
    "from sklearn.model_selection import train_test_split\n",
    "from sklearn.neighbors import KNeighborsClassifier\n",
    "\n",
    "# Splitting the dataset into 80% and 20%\n",
    "# Our seed is set as 0\n",
    "X_train, X_test, y_train, y_test = train_test_split(X, y, train_size = 0.8, random_state=0)\n",
    "knn = KNeighborsClassifier()\n",
    "#Storing the training dataset\n",
    "knn.fit(X_train, y_train)\n",
    "# Calculating accuracy of prediction\n",
    "print(\"Test set score: {:.2f}\".format(knn.score(X_test, y_test)))"
   ]
  },
  {
   "cell_type": "markdown",
   "id": "1f4a817b-aed8-4219-b39f-3901d39d79ba",
   "metadata": {},
   "source": [
    "6.- Write a Python program using Scikit-learn to split the iris dataset into 80% train data and 20% test data. Out of total 150 records, the training set will contain 120 records and the test set contains 30 of those records. Train or fit the data into the model and using the K Nearest Neighbor Algorithm calculate the performance for different values of k. "
   ]
  },
  {
   "cell_type": "code",
   "execution_count": 24,
   "id": "7f6c3e43-b34f-4fcc-8f81-aab8d6982b5a",
   "metadata": {},
   "outputs": [
    {
     "name": "stdout",
     "output_type": "stream",
     "text": [
      "Test set score for 1 neighbor: 1.00\n",
      "Test set score for 2 neighbors: 0.97\n",
      "Test set score for 8 neighbors: 1.00\n",
      "Test set score for 67 neighbors: 0.90\n",
      "Test set score for 120 neighbors: 0.20\n"
     ]
    }
   ],
   "source": [
    "from sklearn.model_selection import train_test_split\n",
    "from sklearn.neighbors import KNeighborsClassifier\n",
    "\n",
    "# Splitting the dataset into 80% and 20%\n",
    "# Our seed is set as 0\n",
    "X_train, X_test, y_train, y_test = train_test_split(X, y, train_size = 0.8, random_state=0)\n",
    "# Defining five diferent values for k in the algorith\n",
    "knn1 = KNeighborsClassifier(n_neighbors=1)\n",
    "knn2 = KNeighborsClassifier(n_neighbors=2)\n",
    "knn8 = KNeighborsClassifier(n_neighbors=8)\n",
    "knn67 = KNeighborsClassifier(n_neighbors=67)\n",
    "knn120 = KNeighborsClassifier(n_neighbors=120)\n",
    "#Storing the training dataset\n",
    "knn1.fit(X_train, y_train)\n",
    "knn2.fit(X_train, y_train)\n",
    "knn8.fit(X_train, y_train)\n",
    "knn67.fit(X_train, y_train)\n",
    "knn120.fit(X_train, y_train)\n",
    "# Calculating accuracy of prediction\n",
    "print(\"Test set score for 1 neighbor: {:.2f}\".format(knn1.score(X_test, y_test)))\n",
    "print(\"Test set score for 2 neighbors: {:.2f}\".format(knn2.score(X_test, y_test)))\n",
    "print(\"Test set score for 8 neighbors: {:.2f}\".format(knn8.score(X_test, y_test)))\n",
    "print(\"Test set score for 67 neighbors: {:.2f}\".format(knn67.score(X_test, y_test)))\n",
    "print(\"Test set score for 120 neighbors: {:.2f}\".format(knn120.score(X_test, y_test)))"
   ]
  },
  {
   "cell_type": "markdown",
   "id": "1dfdc540-f2d4-4201-9e68-88831fe47eb1",
   "metadata": {},
   "source": [
    "7.- Write a Python program using Scikit-learn to split the iris dataset into 80% train data and 20% test data. Out of total 150 records, the training set will contain 120 records and the test set contains 30 of those records. Train or fit the data into the model and using the K Nearest Neighbor Algorithm and create a plot to present the performance for different values of k. "
   ]
  },
  {
   "cell_type": "code",
   "execution_count": null,
   "id": "c6b1007f-478e-4f19-9b79-15073c33ef96",
   "metadata": {},
   "outputs": [],
   "source": []
  },
  {
   "cell_type": "markdown",
   "id": "8774e18d-dcab-45eb-af11-15732ea51a78",
   "metadata": {},
   "source": [
    "8.- Write a Python program using Scikit-learn to split the iris dataset into 80% train data and 20% test data. Out of total 150 records, the training set will contain 120 records and the test set contains 30 of those records. Train or fit the data into the model and using the K Nearest Neighbor Algorithm and create a plot of k values vs accuracy."
   ]
  },
  {
   "cell_type": "code",
   "execution_count": 45,
   "id": "da31494b-fe3a-4c1c-a2a4-f2c1875a31df",
   "metadata": {},
   "outputs": [
    {
     "data": {
      "text/plain": [
       "Text(0, 0.5, 'Score')"
      ]
     },
     "execution_count": 45,
     "metadata": {},
     "output_type": "execute_result"
    },
    {
     "data": {
      "image/png": "[encoded data removed]",
      "text/plain": [
       "<Figure size 432x288 with 1 Axes>"
      ]
     },
     "metadata": {
      "needs_background": "light"
     },
     "output_type": "display_data"
    }
   ],
   "source": [
    "from sklearn.model_selection import train_test_split\n",
    "from sklearn.neighbors import KNeighborsClassifier\n",
    "\n",
    "X_train, X_test, y_train, y_test = train_test_split(X, y, train_size = 0.8, random_state=0)\n",
    "\n",
    "scores = []\n",
    "knn = None\n",
    "for k in range(1,121):\n",
    "    knn = KNeighborsClassifier(n_neighbors=k)\n",
    "    knn.fit(X_train, y_train)\n",
    "    scores.append(knn.score(X_test, y_test))\n",
    "\n",
    "plt.scatter(range(1,121), scores)\n",
    "plt.xlabel('Values of k')\n",
    "plt.ylabel('Score')"
   ]
  },
  {
   "cell_type": "code",
   "execution_count": 44,
   "id": "83ab2b00-ba69-4dba-9c90-013f509075a0",
   "metadata": {},
   "outputs": [
    {
     "data": {
      "text/plain": [
       "Text(0, 0.5, 'Score')"
      ]
     },
     "execution_count": 44,
     "metadata": {},
     "output_type": "execute_result"
    },
    {
     "data": {
      "image/png": "[encoded data removed]",
      "text/plain": [
       "<Figure size 432x288 with 1 Axes>"
      ]
     },
     "metadata": {
      "needs_background": "light"
     },
     "output_type": "display_data"
    }
   ],
   "source": [
    "plt.plot(scores)\n",
    "plt.xlabel('Values of k')\n",
    "plt.ylabel('Score')"
   ]
  }
 ],
 "metadata": {
  "kernelspec": {
   "display_name": "Python 3",
   "language": "python",
   "name": "python3"
  },
  "language_info": {
   "codemirror_mode": {
    "name": "ipython",
    "version": 3
   },
   "file_extension": ".py",
   "mimetype": "text/x-python",
   "name": "python",
   "nbconvert_exporter": "python",
   "pygments_lexer": "ipython3",
   "version": "3.8.8"
  }
 },
 "nbformat": 4,
 "nbformat_minor": 5
}
